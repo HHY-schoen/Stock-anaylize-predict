{
 "cells": [
  {
   "cell_type": "code",
   "execution_count": 17,
   "id": "3bfd41fd",
   "metadata": {},
   "outputs": [
    {
     "name": "stdout",
     "output_type": "stream",
     "text": [
      "Requirement already satisfied: pandas-datareader in d:\\anaconda\\lib\\site-packages (0.10.0)\n",
      "Requirement already satisfied: requests>=2.19.0 in d:\\anaconda\\lib\\site-packages (from pandas-datareader) (2.26.0)\n",
      "Requirement already satisfied: pandas>=0.23 in d:\\anaconda\\lib\\site-packages (from pandas-datareader) (1.5.3)\n",
      "Requirement already satisfied: lxml in d:\\anaconda\\lib\\site-packages (from pandas-datareader) (4.9.2)\n",
      "Requirement already satisfied: python-dateutil>=2.8.1 in d:\\anaconda\\lib\\site-packages (from pandas>=0.23->pandas-datareader) (2.8.2)\n",
      "Requirement already satisfied: numpy>=1.20.3 in d:\\anaconda\\lib\\site-packages (from pandas>=0.23->pandas-datareader) (1.22.0)\n",
      "Requirement already satisfied: pytz>=2020.1 in d:\\anaconda\\lib\\site-packages (from pandas>=0.23->pandas-datareader) (2022.7.1)\n",
      "Requirement already satisfied: six>=1.5 in d:\\anaconda\\lib\\site-packages (from python-dateutil>=2.8.1->pandas>=0.23->pandas-datareader) (1.16.0)\n",
      "Requirement already satisfied: idna<4,>=2.5 in d:\\anaconda\\lib\\site-packages (from requests>=2.19.0->pandas-datareader) (3.2)\n",
      "Requirement already satisfied: certifi>=2017.4.17 in d:\\anaconda\\lib\\site-packages (from requests>=2.19.0->pandas-datareader) (2021.10.8)\n",
      "Requirement already satisfied: charset-normalizer~=2.0.0 in d:\\anaconda\\lib\\site-packages (from requests>=2.19.0->pandas-datareader) (2.0.4)\n",
      "Requirement already satisfied: urllib3<1.27,>=1.21.1 in d:\\anaconda\\lib\\site-packages (from requests>=2.19.0->pandas-datareader) (1.26.7)\n"
     ]
    },
    {
     "name": "stderr",
     "output_type": "stream",
     "text": [
      "WARNING: Ignoring invalid distribution -ytz (d:\\anaconda\\lib\\site-packages)\n",
      "WARNING: Ignoring invalid distribution -ytz (d:\\anaconda\\lib\\site-packages)\n",
      "WARNING: Ignoring invalid distribution -ytz (d:\\anaconda\\lib\\site-packages)\n",
      "WARNING: Ignoring invalid distribution -ytz (d:\\anaconda\\lib\\site-packages)\n",
      "WARNING: Ignoring invalid distribution -ytz (d:\\anaconda\\lib\\site-packages)\n",
      "WARNING: Ignoring invalid distribution -ytz (d:\\anaconda\\lib\\site-packages)\n"
     ]
    }
   ],
   "source": [
    "# !pip install pandas-datareader\n",
    "# !pip install --upgrade pandas-datareader"
   ]
  },
  {
   "cell_type": "markdown",
   "id": "03ea7efe",
   "metadata": {},
   "source": [
    "- Open：開盤價格\n",
    "- High：當天最高價格\n",
    "- Low：當天最低價格\n",
    "- Close：收盤價格\n",
    "- Adj Close：調整後的收盤價格（通常用來計算股票回報率）\n",
    "- Volume：交易量"
   ]
  },
  {
   "cell_type": "code",
   "execution_count": 19,
   "id": "6313d3bf",
   "metadata": {},
   "outputs": [
    {
     "name": "stdout",
     "output_type": "stream",
     "text": [
      "[*********************100%***********************]  1 of 1 completed\n",
      "                 Open       High        Low      Close  Adj Close    Volume\n",
      "Date                                                                       \n",
      "2019-01-02  75.849998  75.900002  73.949997  74.050003  74.050003   8532073\n",
      "2019-01-03  73.800003  74.000000  73.250000  73.349998  73.349998  13347147\n",
      "2019-01-04  72.800003  72.800003  72.000000  72.199997  72.199997  21292465\n",
      "2019-01-07  73.550003  74.050003  73.250000  73.949997  73.949997  14605638\n",
      "2019-01-08  74.150002  74.150002  73.550003  73.650002  73.650002  11006700\n"
     ]
    }
   ],
   "source": [
    "import pandas as pd\n",
    "import yfinance as yf\n",
    "\n",
    "# 設定起始和結束日期\n",
    "start_date = '2019-01-01'\n",
    "end_date = '2022-03-01'\n",
    "\n",
    "# 載入股票資料\n",
    "df = yf.download('0050.TW', start=start_date, end=end_date)\n",
    "\n",
    "# 列印資料\n",
    "print(df.head())"
   ]
  },
  {
   "cell_type": "code",
   "execution_count": 20,
   "id": "3d593803",
   "metadata": {},
   "outputs": [
    {
     "name": "stdout",
     "output_type": "stream",
     "text": [
      "均方誤差: 630.2976672990513\n"
     ]
    }
   ],
   "source": [
    "from sklearn.linear_model import LinearRegression\n",
    "from sklearn.model_selection import train_test_split\n",
    "from sklearn.metrics import mean_squared_error\n",
    "\n",
    "# 計算每日報酬率\n",
    "df['Returns'] = df['Close'].pct_change()    # 計算相鄰元素之間的變化率\n",
    "\n",
    "# 去除缺失值\n",
    "df.dropna(inplace=True)\n",
    "\n",
    "# 設定自變數和因變數\n",
    "X = df['Returns'].values.reshape(-1,1)\n",
    "y = df['Close'].values\n",
    "\n",
    "# 將數據集分成訓練集和測試集\n",
    "X_train, X_test, y_train, y_test = train_test_split(X, y, test_size=0.2, random_state=42)\n",
    "\n",
    "# 訓練模型\n",
    "lr = LinearRegression()\n",
    "lr.fit(X_train, y_train)\n",
    "\n",
    "# 預測測試集\n",
    "y_pred = lr.predict(X_test)\n",
    "\n",
    "# 計算均方誤差\n",
    "mse = mean_squared_error(y_test, y_pred)\n",
    "\n",
    "print('均方誤差:', mse)\n"
   ]
  },
  {
   "cell_type": "code",
   "execution_count": 22,
   "id": "421035ab",
   "metadata": {},
   "outputs": [
    {
     "data": {
      "text/plain": [
       "<bound method NDFrame.head of Date\n",
       "2019-01-03   -0.009453\n",
       "2019-01-04   -0.015678\n",
       "2019-01-07    0.024238\n",
       "2019-01-08   -0.004057\n",
       "2019-01-09    0.018330\n",
       "                ...   \n",
       "2022-02-21   -0.002082\n",
       "2022-02-22   -0.013560\n",
       "2022-02-23    0.002820\n",
       "2022-02-24   -0.024253\n",
       "2022-02-25   -0.002161\n",
       "Name: Returns, Length: 761, dtype: float64>"
      ]
     },
     "execution_count": 22,
     "metadata": {},
     "output_type": "execute_result"
    }
   ],
   "source": [
    "df['Returns'].head"
   ]
  },
  {
   "cell_type": "code",
   "execution_count": null,
   "id": "a40fe145",
   "metadata": {},
   "outputs": [],
   "source": []
  }
 ],
 "metadata": {
  "kernelspec": {
   "display_name": "Python [conda env:py3]",
   "language": "python",
   "name": "py3"
  },
  "language_info": {
   "codemirror_mode": {
    "name": "ipython",
    "version": 3
   },
   "file_extension": ".py",
   "mimetype": "text/x-python",
   "name": "python",
   "nbconvert_exporter": "python",
   "pygments_lexer": "ipython3",
   "version": "3.9.7"
  }
 },
 "nbformat": 4,
 "nbformat_minor": 5
}
